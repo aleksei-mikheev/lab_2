{
 "cells": [
  {
   "cell_type": "markdown",
   "id": "249e7ea5-1e3d-489c-b758-f0edc77c7356",
   "metadata": {},
   "source": [
    "# Задание: \n",
    "написать программу, которая поможет пользователям определить, сколько денег они могут сэкономить на покупках в разных магазинах.\n",
    "\n",
    "## Условия:\n",
    "\n",
    "Пользователь должен ввести список товаров, которые он собирается купить, и цены на эти товары в разных магазинах.\n",
    "Затем программа должна вывести список магазинов и общую стоимость покупок в каждом магазине, а также сообщить, в каком магазине пользователь может сэкономить больше всего денег.\n",
    "Список товаров и магазинов определяется самостоятельно.\n"
   ]
  },
  {
   "cell_type": "code",
   "execution_count": null,
   "id": "69c4d8f6-c938-4d40-97d1-a13aebe4d0c5",
   "metadata": {},
   "outputs": [
    {
     "name": "stdout",
     "output_type": "stream",
     "text": [
      "Выберите операцию:\n",
      "\n",
      "    1 - Добавить продукт в список покупок\n",
      "\n",
      "    2 - Получить список магазинов\n",
      "\n",
      "    3 - Выйти\n"
     ]
    }
   ],
   "source": [
    "shops = [\n",
    "    [\"Перекресток\",\n",
    "        [\n",
    "            [\"milk\", 111.0], \n",
    "            [\"bread\", 51.0],\n",
    "            [\"cheese\", 333.0]\n",
    "        ]\n",
    "    ],\n",
    "    [\"Азбука Вкуса\",\n",
    "        [\n",
    "            [\"milk\", 112.0], \n",
    "            [\"bread\", 52.0],\n",
    "            [\"cheese\", 334.0]\n",
    "        ]\n",
    "    ],\n",
    "    [\"Spar\", \n",
    "        [\n",
    "            [\"ice-cream\", 113.0], \n",
    "            [\"banana\", 53.0],\n",
    "            [\"cheese\", 335.0]\n",
    "        ]\n",
    "    ]\n",
    "]\n",
    "            \n",
    "\n",
    "\n",
    "shopping_list = []\n",
    "\n",
    "while 1==1:\n",
    "    print(\"\"\"Выберите операцию:\\n\n",
    "    1 - Добавить продукт в список покупок\\n\n",
    "    2 - Получить список магазинов\\n\n",
    "    3 - Выйти\"\"\")\n",
    "    \n",
    "    act = int(input())\n",
    "    if act == 1:\n",
    "        item = input(\"Введите продукт и стоимость через пробел\").split()\n",
    "        item[1] = float(item[1])\n",
    "        shopping_list.append(item)\n",
    "        print(f\"Продуктов в списке покупок: {len(shopping_list)}\")\n",
    "        print()\n",
    "    elif act == 2:\n",
    "        if len(shopping_list) > 0:\n",
    "            \n",
    "            result = [] # variable to keep list of shops with products and prices\n",
    "            \n",
    "            # matching shopping list wth shops\n",
    "            for shop in shops:\n",
    "                temp_list = []\n",
    "                temp_list.append(shop[0])\n",
    "                shop_price_list = []\n",
    "                temp_list.append(shop_price_list)\n",
    "                result.append(temp_list)\n",
    "                for line in shop[1]:\n",
    "                    for element in shopping_list:\n",
    "                        if element[0] in line:\n",
    "                            saving = element[1] - line[1]\n",
    "                            line.append(saving)\n",
    "                            shop_price_list.append(line)\n",
    "            \n",
    "            # drops shops with no matching with shoping list\n",
    "            shops_to_shop = [line for line in result if len(line[1]) > 0]\n",
    "            \n",
    "            # calculates totals for shops\n",
    "            total_list = []\n",
    "            for shop in shops_to_shop:\n",
    "                temp_list = []\n",
    "                temp_list.append(shop[0])\n",
    "                total_sum = sum([product[1] for product  in shop[1]])\n",
    "                temp_list.append(total_sum)\n",
    "                total_list.append(temp_list)\n",
    "                \n",
    "            # displays results\n",
    "            for shop in shops_to_shop:\n",
    "                print(shop[0])\n",
    "                for product in shop[1]:\n",
    "                    print(f'{product[0]}: {product[1]}')\n",
    "                    total_sum = sum([product[1] for product in shop[1]])\n",
    "                print(\"---\")\n",
    "                print(f\"Total: {total_sum}\")    \n",
    "                print()\n",
    "                \n",
    "            # calculates saving for shops and displays the result\n",
    "            saving_list = []\n",
    "            for shop in shops_to_shop:\n",
    "                temp_list = []\n",
    "                temp_list.append(shop[0])\n",
    "                saving = sum([product[2] for product in shop[1]])\n",
    "                temp_list.append(saving)          \n",
    "                saving_list.append(temp_list)\n",
    "\n",
    "            max_saving = max([saving[1] for saving in saving_list])\n",
    "            cheepest_shop = [saving for saving in saving_list if saving[1] == max_saving]\n",
    "\n",
    "            print(f\"Recommended: {cheepest_shop[0][0]}\")\n",
    "            print(f\"You save {cheepest_shop[0][1]} rub.\")\n",
    "\n",
    "\n",
    "        else:\n",
    "            print(\"Ваш список покупок пуст. Добавьте продукты в список (Клавиша - 1)\")\n",
    "            print()\n",
    "        \n",
    "        \n",
    "    else:\n",
    "        print(\"До свидания\")\n",
    "        break"
   ]
  },
  {
   "cell_type": "code",
   "execution_count": null,
   "id": "808f98e4-c73a-41dd-9ee3-a62cbb44e3b2",
   "metadata": {},
   "outputs": [],
   "source": []
  },
  {
   "cell_type": "code",
   "execution_count": null,
   "id": "7fc86c84-ae09-4361-bb8d-ade9de49f263",
   "metadata": {},
   "outputs": [],
   "source": []
  },
  {
   "cell_type": "code",
   "execution_count": null,
   "id": "afc16b08-b35b-443f-8898-bfbd16774478",
   "metadata": {},
   "outputs": [],
   "source": []
  },
  {
   "cell_type": "code",
   "execution_count": null,
   "id": "ca17d0e2-1a00-4a65-a200-3ec661dea61b",
   "metadata": {},
   "outputs": [],
   "source": []
  },
  {
   "cell_type": "code",
   "execution_count": null,
   "id": "70c13462-09ec-49a9-9294-1d6b834e96ca",
   "metadata": {},
   "outputs": [],
   "source": []
  },
  {
   "cell_type": "code",
   "execution_count": 95,
   "id": "9757347d-e167-4226-a303-d1bc7cfb0261",
   "metadata": {},
   "outputs": [
    {
     "name": "stdout",
     "output_type": "stream",
     "text": [
      "[['Перекресток', [['milk', 111.0, -11.0], ['bread', 51.0, 19.0]]], ['Азбука Вкуса', [['milk', 112.0, -12.0], ['bread', 52.0, 18.0]]], ['Spar', []]]\n",
      "520.0\n"
     ]
    }
   ],
   "source": [
    "shops = [\n",
    "    [\"Перекресток\",\n",
    "        [\n",
    "            [\"milk\", 111.0], \n",
    "            [\"bread\", 51.0],\n",
    "            [\"cheese\", 333.0]\n",
    "        ]\n",
    "    ],\n",
    "    [\"Азбука Вкуса\",\n",
    "        [\n",
    "            [\"milk\", 112.0], \n",
    "            [\"bread\", 52.0],\n",
    "            [\"cheese\", 334.0]\n",
    "        ]\n",
    "    ],\n",
    "    [\"Spar\", \n",
    "        [\n",
    "            [\"ice-cream\", 113.0], \n",
    "            [\"banana\", 53.0],\n",
    "            [\"cheese\", 335.0]\n",
    "        ]\n",
    "    ]\n",
    "]\n",
    "\n",
    "shopping_list = [[\"milk\", 100.0],\n",
    "                 [\"bread\", 70.0],\n",
    "                 [\"meat\", 350.0]]\n",
    "\n",
    "result = [] # variable to keep list of shops with products and prices\n",
    "\n",
    "# matching shopping list wth shops\n",
    "for shop in shops:\n",
    "    temp_list = []\n",
    "    temp_list.append(shop[0])\n",
    "    shop_price_list = []\n",
    "    temp_list.append(shop_price_list)\n",
    "    result.append(temp_list)\n",
    "    for line in shop[1]:\n",
    "        for element in shopping_list:\n",
    "            if element[0] in line:\n",
    "                saving = element[1] - line[1]\n",
    "                line.append(saving)\n",
    "                shop_price_list.append(line)\n",
    "print(result)\n",
    "print(budget)"
   ]
  },
  {
   "cell_type": "code",
   "execution_count": 96,
   "id": "3406b8b9-9c38-436b-97c2-5399dc7b10e6",
   "metadata": {},
   "outputs": [
    {
     "name": "stdout",
     "output_type": "stream",
     "text": [
      "[['Перекресток', [['milk', 111.0, -11.0], ['bread', 51.0, 19.0]]], ['Азбука Вкуса', [['milk', 112.0, -12.0], ['bread', 52.0, 18.0]]]]\n"
     ]
    }
   ],
   "source": [
    "# drops shops with no matching with shoping list\n",
    "shops_to_shop = [line for line in result if len(line[1]) > 0]\n",
    "print(shops_to_shop)"
   ]
  },
  {
   "cell_type": "code",
   "execution_count": 97,
   "id": "df5cdfdb-1724-4d8a-b793-b97909301141",
   "metadata": {},
   "outputs": [
    {
     "name": "stdout",
     "output_type": "stream",
     "text": [
      "[['Перекресток', 162.0], ['Азбука Вкуса', 164.0]]\n"
     ]
    }
   ],
   "source": [
    "# calculates totals for shops\n",
    "total_list = []\n",
    "for shop in shops_to_shop:\n",
    "    temp_list = []\n",
    "    temp_list.append(shop[0])\n",
    "    total_sum = sum([product[1] for product  in shop[1]])\n",
    "    temp_list.append(total_sum)\n",
    "    total_list.append(temp_list)\n",
    "print(total_list)\n"
   ]
  },
  {
   "cell_type": "code",
   "execution_count": 119,
   "id": "8c191418-e6ab-4315-a58f-35bddda35cba",
   "metadata": {},
   "outputs": [
    {
     "name": "stdout",
     "output_type": "stream",
     "text": [
      "Recommended: Перекресток\n",
      "You save 8.0 rub.\n"
     ]
    }
   ],
   "source": [
    "# calculates saving for shops and displays the result\n",
    "saving_list = []\n",
    "for shop in shops_to_shop:\n",
    "    temp_list = []\n",
    "    temp_list.append(shop[0])\n",
    "    saving = sum([product[2] for product in shop[1]])\n",
    "    temp_list.append(saving)          \n",
    "    saving_list.append(temp_list)\n",
    "\n",
    "max_saving = max([saving[1] for saving in saving_list])\n",
    "cheepest_shop = [saving for saving in saving_list if saving[1] == max_saving]\n",
    "\n",
    "print(f\"\"\"Recommended: {cheepest_shop[0][0]}\n",
    "You save {cheepest_shop[0][1]} rub.\"\"\")"
   ]
  },
  {
   "cell_type": "code",
   "execution_count": 120,
   "id": "e119e109-b58b-4f21-97b8-5c5399e40491",
   "metadata": {},
   "outputs": [
    {
     "name": "stdout",
     "output_type": "stream",
     "text": [
      "Перекресток\n",
      "milk: 111.0\n",
      "bread: 51.0\n",
      "---\n",
      "Total: 162.0\n",
      "\n",
      "Азбука Вкуса\n",
      "milk: 112.0\n",
      "bread: 52.0\n",
      "---\n",
      "Total: 164.0\n",
      "\n"
     ]
    }
   ],
   "source": [
    "# displays results\n",
    "\n",
    "for shop in shops_to_shop:\n",
    "    print(shop[0])\n",
    "    for product in shop[1]:\n",
    "        print(f'{product[0]}: {product[1]}')\n",
    "        total_sum = sum([product[1] for product in shop[1]])\n",
    "    print(\"---\")\n",
    "    print(f\"Total: {total_sum}\")    \n",
    "    print()"
   ]
  },
  {
   "cell_type": "code",
   "execution_count": null,
   "id": "614f1446-64e5-4d48-b48b-457b67178305",
   "metadata": {},
   "outputs": [],
   "source": []
  }
 ],
 "metadata": {
  "kernelspec": {
   "display_name": "Python 3 (ipykernel)",
   "language": "python",
   "name": "python3"
  },
  "language_info": {
   "codemirror_mode": {
    "name": "ipython",
    "version": 3
   },
   "file_extension": ".py",
   "mimetype": "text/x-python",
   "name": "python",
   "nbconvert_exporter": "python",
   "pygments_lexer": "ipython3",
   "version": "3.9.13"
  }
 },
 "nbformat": 4,
 "nbformat_minor": 5
}
